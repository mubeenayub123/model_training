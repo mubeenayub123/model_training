{
  "nbformat": 4,
  "nbformat_minor": 0,
  "metadata": {
    "colab": {
      "provenance": []
    },
    "kernelspec": {
      "name": "python3",
      "display_name": "Python 3"
    }
  },
  "cells": [
    {
      "cell_type": "code",
      "metadata": {
        "colab": {
          "base_uri": "https://localhost:8080/"
        },
        "id": "RqqCqxuySHKe",
        "outputId": "ab927124-d76f-427e-8b04-993e15043fe0"
      },
      "source": [
        "pip install fast_ml"
      ],
      "execution_count": null,
      "outputs": [
        {
          "output_type": "stream",
          "name": "stdout",
          "text": [
            "Looking in indexes: https://pypi.org/simple, https://us-python.pkg.dev/colab-wheels/public/simple/\n",
            "Collecting fast_ml\n",
            "  Downloading fast_ml-3.68-py3-none-any.whl (42 kB)\n",
            "\u001b[K     |████████████████████████████████| 42 kB 363 kB/s \n",
            "\u001b[?25hInstalling collected packages: fast-ml\n",
            "Successfully installed fast-ml-3.68\n"
          ]
        }
      ]
    },
    {
      "cell_type": "code",
      "metadata": {
        "id": "axunt9z5QBCr"
      },
      "source": [
        "import tensorflow as tf\n",
        "import pandas as pd\n",
        "import numpy as np\n",
        "import matplotlib.pyplot as plt\n",
        "import math\n",
        "from tensorflow.keras import layers\n",
        "from fast_ml.model_development import train_valid_test_split\n",
        "from sklearn import metrics\n"
      ],
      "execution_count": null,
      "outputs": []
    },
    {
      "cell_type": "code",
      "metadata": {
        "id": "7rcPcaSGQWvH",
        "colab": {
          "base_uri": "https://localhost:8080/",
          "height": 485
        },
        "outputId": "d2dc7354-f8b5-416c-c5b5-df3c5a828cff"
      },
      "source": [
        "df=pd.read_excel(\"Complete Plant data set.xlsx\",header=0)\n",
        "df"
      ],
      "execution_count": null,
      "outputs": [
        {
          "output_type": "execute_result",
          "data": {
            "text/plain": [
              "      arduino-ethernet_light-intensity  arduino-ethernet_temperature  \\\n",
              "0                             1201.667                          33.4   \n",
              "1                                0.000                          23.3   \n",
              "2                                0.000                          23.7   \n",
              "3                                0.000                          24.0   \n",
              "4                                0.000                          24.7   \n",
              "...                                ...                           ...   \n",
              "2529                           148.333                          36.5   \n",
              "2530                           156.667                          36.5   \n",
              "2531                           178.333                          35.5   \n",
              "2532                           166.667                          35.6   \n",
              "2533                           165.000                          35.7   \n",
              "\n",
              "      arduino-ethernet_humidity  arduino-ethernet_soil_moisture  \\\n",
              "0                            10                          31.476   \n",
              "1                             5                          44.868   \n",
              "2                            95                          46.530   \n",
              "3                            13                          36.950   \n",
              "4                             5                          44.575   \n",
              "...                         ...                             ...   \n",
              "2529                         95                          39.687   \n",
              "2530                         95                          34.995   \n",
              "2531                         95                          35.191   \n",
              "2532                         95                          17.400   \n",
              "2533                         95                          15.152   \n",
              "\n",
              "      arduino-ethernet_water-supply  \n",
              "0                                 1  \n",
              "1                                 1  \n",
              "2                                 1  \n",
              "3                                 1  \n",
              "4                                 1  \n",
              "...                             ...  \n",
              "2529                              1  \n",
              "2530                              1  \n",
              "2531                              1  \n",
              "2532                              1  \n",
              "2533                              1  \n",
              "\n",
              "[2534 rows x 5 columns]"
            ],
            "text/html": [
              "\n",
              "  <div id=\"df-995dfe97-e15e-4a56-a6fe-ff21b41e45b9\">\n",
              "    <div class=\"colab-df-container\">\n",
              "      <div>\n",
              "<style scoped>\n",
              "    .dataframe tbody tr th:only-of-type {\n",
              "        vertical-align: middle;\n",
              "    }\n",
              "\n",
              "    .dataframe tbody tr th {\n",
              "        vertical-align: top;\n",
              "    }\n",
              "\n",
              "    .dataframe thead th {\n",
              "        text-align: right;\n",
              "    }\n",
              "</style>\n",
              "<table border=\"1\" class=\"dataframe\">\n",
              "  <thead>\n",
              "    <tr style=\"text-align: right;\">\n",
              "      <th></th>\n",
              "      <th>arduino-ethernet_light-intensity</th>\n",
              "      <th>arduino-ethernet_temperature</th>\n",
              "      <th>arduino-ethernet_humidity</th>\n",
              "      <th>arduino-ethernet_soil_moisture</th>\n",
              "      <th>arduino-ethernet_water-supply</th>\n",
              "    </tr>\n",
              "  </thead>\n",
              "  <tbody>\n",
              "    <tr>\n",
              "      <th>0</th>\n",
              "      <td>1201.667</td>\n",
              "      <td>33.4</td>\n",
              "      <td>10</td>\n",
              "      <td>31.476</td>\n",
              "      <td>1</td>\n",
              "    </tr>\n",
              "    <tr>\n",
              "      <th>1</th>\n",
              "      <td>0.000</td>\n",
              "      <td>23.3</td>\n",
              "      <td>5</td>\n",
              "      <td>44.868</td>\n",
              "      <td>1</td>\n",
              "    </tr>\n",
              "    <tr>\n",
              "      <th>2</th>\n",
              "      <td>0.000</td>\n",
              "      <td>23.7</td>\n",
              "      <td>95</td>\n",
              "      <td>46.530</td>\n",
              "      <td>1</td>\n",
              "    </tr>\n",
              "    <tr>\n",
              "      <th>3</th>\n",
              "      <td>0.000</td>\n",
              "      <td>24.0</td>\n",
              "      <td>13</td>\n",
              "      <td>36.950</td>\n",
              "      <td>1</td>\n",
              "    </tr>\n",
              "    <tr>\n",
              "      <th>4</th>\n",
              "      <td>0.000</td>\n",
              "      <td>24.7</td>\n",
              "      <td>5</td>\n",
              "      <td>44.575</td>\n",
              "      <td>1</td>\n",
              "    </tr>\n",
              "    <tr>\n",
              "      <th>...</th>\n",
              "      <td>...</td>\n",
              "      <td>...</td>\n",
              "      <td>...</td>\n",
              "      <td>...</td>\n",
              "      <td>...</td>\n",
              "    </tr>\n",
              "    <tr>\n",
              "      <th>2529</th>\n",
              "      <td>148.333</td>\n",
              "      <td>36.5</td>\n",
              "      <td>95</td>\n",
              "      <td>39.687</td>\n",
              "      <td>1</td>\n",
              "    </tr>\n",
              "    <tr>\n",
              "      <th>2530</th>\n",
              "      <td>156.667</td>\n",
              "      <td>36.5</td>\n",
              "      <td>95</td>\n",
              "      <td>34.995</td>\n",
              "      <td>1</td>\n",
              "    </tr>\n",
              "    <tr>\n",
              "      <th>2531</th>\n",
              "      <td>178.333</td>\n",
              "      <td>35.5</td>\n",
              "      <td>95</td>\n",
              "      <td>35.191</td>\n",
              "      <td>1</td>\n",
              "    </tr>\n",
              "    <tr>\n",
              "      <th>2532</th>\n",
              "      <td>166.667</td>\n",
              "      <td>35.6</td>\n",
              "      <td>95</td>\n",
              "      <td>17.400</td>\n",
              "      <td>1</td>\n",
              "    </tr>\n",
              "    <tr>\n",
              "      <th>2533</th>\n",
              "      <td>165.000</td>\n",
              "      <td>35.7</td>\n",
              "      <td>95</td>\n",
              "      <td>15.152</td>\n",
              "      <td>1</td>\n",
              "    </tr>\n",
              "  </tbody>\n",
              "</table>\n",
              "<p>2534 rows × 5 columns</p>\n",
              "</div>\n",
              "      <button class=\"colab-df-convert\" onclick=\"convertToInteractive('df-995dfe97-e15e-4a56-a6fe-ff21b41e45b9')\"\n",
              "              title=\"Convert this dataframe to an interactive table.\"\n",
              "              style=\"display:none;\">\n",
              "        \n",
              "  <svg xmlns=\"http://www.w3.org/2000/svg\" height=\"24px\"viewBox=\"0 0 24 24\"\n",
              "       width=\"24px\">\n",
              "    <path d=\"M0 0h24v24H0V0z\" fill=\"none\"/>\n",
              "    <path d=\"M18.56 5.44l.94 2.06.94-2.06 2.06-.94-2.06-.94-.94-2.06-.94 2.06-2.06.94zm-11 1L8.5 8.5l.94-2.06 2.06-.94-2.06-.94L8.5 2.5l-.94 2.06-2.06.94zm10 10l.94 2.06.94-2.06 2.06-.94-2.06-.94-.94-2.06-.94 2.06-2.06.94z\"/><path d=\"M17.41 7.96l-1.37-1.37c-.4-.4-.92-.59-1.43-.59-.52 0-1.04.2-1.43.59L10.3 9.45l-7.72 7.72c-.78.78-.78 2.05 0 2.83L4 21.41c.39.39.9.59 1.41.59.51 0 1.02-.2 1.41-.59l7.78-7.78 2.81-2.81c.8-.78.8-2.07 0-2.86zM5.41 20L4 18.59l7.72-7.72 1.47 1.35L5.41 20z\"/>\n",
              "  </svg>\n",
              "      </button>\n",
              "      \n",
              "  <style>\n",
              "    .colab-df-container {\n",
              "      display:flex;\n",
              "      flex-wrap:wrap;\n",
              "      gap: 12px;\n",
              "    }\n",
              "\n",
              "    .colab-df-convert {\n",
              "      background-color: #E8F0FE;\n",
              "      border: none;\n",
              "      border-radius: 50%;\n",
              "      cursor: pointer;\n",
              "      display: none;\n",
              "      fill: #1967D2;\n",
              "      height: 32px;\n",
              "      padding: 0 0 0 0;\n",
              "      width: 32px;\n",
              "    }\n",
              "\n",
              "    .colab-df-convert:hover {\n",
              "      background-color: #E2EBFA;\n",
              "      box-shadow: 0px 1px 2px rgba(60, 64, 67, 0.3), 0px 1px 3px 1px rgba(60, 64, 67, 0.15);\n",
              "      fill: #174EA6;\n",
              "    }\n",
              "\n",
              "    [theme=dark] .colab-df-convert {\n",
              "      background-color: #3B4455;\n",
              "      fill: #D2E3FC;\n",
              "    }\n",
              "\n",
              "    [theme=dark] .colab-df-convert:hover {\n",
              "      background-color: #434B5C;\n",
              "      box-shadow: 0px 1px 3px 1px rgba(0, 0, 0, 0.15);\n",
              "      filter: drop-shadow(0px 1px 2px rgba(0, 0, 0, 0.3));\n",
              "      fill: #FFFFFF;\n",
              "    }\n",
              "  </style>\n",
              "\n",
              "      <script>\n",
              "        const buttonEl =\n",
              "          document.querySelector('#df-995dfe97-e15e-4a56-a6fe-ff21b41e45b9 button.colab-df-convert');\n",
              "        buttonEl.style.display =\n",
              "          google.colab.kernel.accessAllowed ? 'block' : 'none';\n",
              "\n",
              "        async function convertToInteractive(key) {\n",
              "          const element = document.querySelector('#df-995dfe97-e15e-4a56-a6fe-ff21b41e45b9');\n",
              "          const dataTable =\n",
              "            await google.colab.kernel.invokeFunction('convertToInteractive',\n",
              "                                                     [key], {});\n",
              "          if (!dataTable) return;\n",
              "\n",
              "          const docLinkHtml = 'Like what you see? Visit the ' +\n",
              "            '<a target=\"_blank\" href=https://colab.research.google.com/notebooks/data_table.ipynb>data table notebook</a>'\n",
              "            + ' to learn more about interactive tables.';\n",
              "          element.innerHTML = '';\n",
              "          dataTable['output_type'] = 'display_data';\n",
              "          await google.colab.output.renderOutput(dataTable, element);\n",
              "          const docLink = document.createElement('div');\n",
              "          docLink.innerHTML = docLinkHtml;\n",
              "          element.appendChild(docLink);\n",
              "        }\n",
              "      </script>\n",
              "    </div>\n",
              "  </div>\n",
              "  "
            ]
          },
          "metadata": {},
          "execution_count": 3
        }
      ]
    },
    {
      "cell_type": "code",
      "metadata": {
        "id": "422XEtwm2Eer"
      },
      "source": [
        "dfp=df[df['arduino-ethernet_water-supply']==1]"
      ],
      "execution_count": null,
      "outputs": []
    },
    {
      "cell_type": "code",
      "metadata": {
        "id": "mdGmtuZe2La6"
      },
      "source": [
        "dfn=df[df['arduino-ethernet_water-supply']==0]"
      ],
      "execution_count": null,
      "outputs": []
    },
    {
      "cell_type": "code",
      "metadata": {
        "id": "Yxc4GIEpN66w"
      },
      "source": [
        "X_trainp, y_trainp, X_validp, y_validp, X_testp, y_testp = train_valid_test_split(dfp, target = 'arduino-ethernet_water-supply', \n",
        "                                                                            method='random', sort_by_col=None,\n",
        "                                                                            train_size=0.8, valid_size=0.19999, test_size=0.00001)"
      ],
      "execution_count": null,
      "outputs": []
    },
    {
      "cell_type": "code",
      "metadata": {
        "id": "H_dFyWjV2UnK"
      },
      "source": [
        "X_trainn, y_trainn, X_validn, y_validn, X_testn, y_testn = train_valid_test_split(dfn, target = 'arduino-ethernet_water-supply', \n",
        "                                                                            method='random', sort_by_col=None,\n",
        "                                                                            train_size=0.8, valid_size=0.19999, test_size=0.00001)"
      ],
      "execution_count": null,
      "outputs": []
    },
    {
      "cell_type": "code",
      "metadata": {
        "id": "LZiKQlmE2gWK"
      },
      "source": [
        "X_train=X_trainp.append(X_trainn)\n",
        "X_test=X_testp.append(X_testn)\n",
        "y_train=y_trainp.append(y_trainn)\n",
        "y_test=y_testp.append(y_testn)\n",
        "X_valid=X_validp.append(X_validn)\n",
        "y_valid=y_validp.append(y_validn)\n"
      ],
      "execution_count": null,
      "outputs": []
    },
    {
      "cell_type": "code",
      "metadata": {
        "id": "SdZ7nh49RveB"
      },
      "source": [
        "model = tf.keras.Sequential()\n",
        "model.add(tf.keras.Input(shape=(4,)))\n",
        "model.add(layers.Normalization(axis=-1))\n",
        "model.add(layers.Dense(16, activation='relu'))\n",
        "model.add(layers.Dense(32, activation='relu'))\n",
        "model.add(layers.Dense(64, activation='relu'))\n",
        "model.add(layers.Dense(128, activation='relu'))\n",
        "model.add(layers.Dense(1,activation='sigmoid'))"
      ],
      "execution_count": null,
      "outputs": []
    },
    {
      "cell_type": "code",
      "metadata": {
        "id": "2PEmqpDChct3",
        "colab": {
          "base_uri": "https://localhost:8080/"
        },
        "outputId": "a6ff8980-a5f6-493c-b1e0-fa579785faeb"
      },
      "source": [
        "model.summary()"
      ],
      "execution_count": null,
      "outputs": [
        {
          "output_type": "stream",
          "name": "stdout",
          "text": [
            "Model: \"sequential\"\n",
            "_________________________________________________________________\n",
            " Layer (type)                Output Shape              Param #   \n",
            "=================================================================\n",
            " normalization (Normalizatio  (None, 4)                9         \n",
            " n)                                                              \n",
            "                                                                 \n",
            " dense (Dense)               (None, 16)                80        \n",
            "                                                                 \n",
            " dense_1 (Dense)             (None, 32)                544       \n",
            "                                                                 \n",
            " dense_2 (Dense)             (None, 64)                2112      \n",
            "                                                                 \n",
            " dense_3 (Dense)             (None, 128)               8320      \n",
            "                                                                 \n",
            " dense_4 (Dense)             (None, 1)                 129       \n",
            "                                                                 \n",
            "=================================================================\n",
            "Total params: 11,194\n",
            "Trainable params: 11,185\n",
            "Non-trainable params: 9\n",
            "_________________________________________________________________\n"
          ]
        }
      ]
    },
    {
      "cell_type": "code",
      "metadata": {
        "id": "kCwv3kMUhe4S"
      },
      "source": [
        "# Add optimizer, loss function, and metrics to model and compile it\n",
        "model.compile(optimizer='adam', loss='binary_crossentropy',metrics='accuracy')"
      ],
      "execution_count": null,
      "outputs": []
    },
    {
      "cell_type": "code",
      "metadata": {
        "id": "-lSCIHp3howX"
      },
      "source": [
        "# Train model\n",
        "history = model.fit(X_train,\n",
        "                    y_train,\n",
        "                    epochs=20, verbose=0,\n",
        "                    validation_data=(X_valid, y_valid))"
      ],
      "execution_count": null,
      "outputs": []
    },
    {
      "cell_type": "code",
      "source": [
        "history.history['accuracy']"
      ],
      "metadata": {
        "colab": {
          "base_uri": "https://localhost:8080/"
        },
        "id": "YbJFRBelxHRB",
        "outputId": "fc0e02e4-43e1-475e-8444-07e50f9795a1"
      },
      "execution_count": null,
      "outputs": [
        {
          "output_type": "execute_result",
          "data": {
            "text/plain": [
              "[0.7235932946205139,\n",
              " 0.8208292126655579,\n",
              " 0.8079960346221924,\n",
              " 0.8099703788757324,\n",
              " 0.8188548684120178,\n",
              " 0.8489634990692139,\n",
              " 0.8479763269424438,\n",
              " 0.8524185419082642,\n",
              " 0.8637709617614746,\n",
              " 0.8790720701217651,\n",
              " 0.8479763269424438,\n",
              " 0.8538993000984192,\n",
              " 0.8820335865020752,\n",
              " 0.874136209487915,\n",
              " 0.8919052481651306,\n",
              " 0.8928924202919006,\n",
              " 0.901776909828186,\n",
              " 0.9057255387306213,\n",
              " 0.898321807384491,\n",
              " 0.9047384262084961]"
            ]
          },
          "metadata": {},
          "execution_count": 13
        }
      ]
    },
    {
      "cell_type": "code",
      "metadata": {
        "id": "uxQvW2qWhxvP",
        "colab": {
          "base_uri": "https://localhost:8080/",
          "height": 281
        },
        "outputId": "e96bcf17-6337-4b72-bf41-19922b08ff0a"
      },
      "source": [
        "# Plot the training history\n",
        "loss = history.history['loss']\n",
        "val_loss = history.history['val_loss']\n",
        "\n",
        "epochs = range(1, len(loss) + 1)\n",
        "\n",
        "plt.plot(epochs, loss, 'bo', label='Training loss')\\\n",
        "\n",
        "plt.plot(epochs, val_loss, 'b', label='Validation loss')\n",
        "plt.title('Training and validation loss')\n",
        "plt.legend()\n",
        "plt.show()"
      ],
      "execution_count": null,
      "outputs": [
        {
          "output_type": "display_data",
          "data": {
            "text/plain": [
              "<Figure size 432x288 with 1 Axes>"
            ],
            "image/png": "[encoded data removed]"
          },
          "metadata": {
            "needs_background": "light"
          }
        }
      ]
    },
    {
      "cell_type": "code",
      "source": [
        "predictions = model.predict(X_test)"
      ],
      "metadata": {
        "colab": {
          "base_uri": "https://localhost:8080/"
        },
        "id": "T2W49H4uFHjL",
        "outputId": "746e45a4-7d3b-4c75-dfa1-a8c5aa17b931"
      },
      "execution_count": null,
      "outputs": [
        {
          "output_type": "stream",
          "name": "stdout",
          "text": [
            "1/1 [==============================] - 0s 145ms/step\n"
          ]
        }
      ]
    },
    {
      "cell_type": "code",
      "metadata": {
        "id": "4YIvoLMpiKke",
        "colab": {
          "base_uri": "https://localhost:8080/",
          "height": 298
        },
        "outputId": "f09c51a8-f220-4135-a506-0915d078cdcb"
      },
      "source": [
        "# Plot predictions against actual values\n",
        "predictions = model.predict(X_test)\n",
        "predictions=pd.Series(predictions.reshape(y_test.shape[0]))\n",
        "# predictions=predictions.apply(lambda x: 1 if x>0.5 else 0)\n",
        "plt.clf()\n",
        "plt.title(\"Comparison of predictions to actual values\")\n",
        "plt.plot(X_test, y_test, 'b.', label='Actual')\n",
        "plt.plot(X_test, predictions, 'r.', label='Prediction')\n",
        "plt.legend()\n",
        "plt.show()"
      ],
      "execution_count": null,
      "outputs": [
        {
          "output_type": "stream",
          "name": "stdout",
          "text": [
            "1/1 [==============================] - 0s 21ms/step\n"
          ]
        },
        {
          "output_type": "display_data",
          "data": {
            "text/plain": [
              "<Figure size 432x288 with 1 Axes>"
            ],
            "image/png": "[encoded data removed]"
          },
          "metadata": {
            "needs_background": "light"
          }
        }
      ]
    },
    {
      "cell_type": "code",
      "source": [
        "df=pd.read_csv(\"test_data (1).csv\",header=0)\n",
        "df"
      ],
      "metadata": {
        "colab": {
          "base_uri": "https://localhost:8080/",
          "height": 468
        },
        "id": "CNJuEgzKCb2q",
        "outputId": "634fecb6-8e24-44c1-ecd3-c524e66f9cda"
      },
      "execution_count": null,
      "outputs": [
        {
          "output_type": "execute_result",
          "data": {
            "text/plain": [
              "     arduino-ethernet_light-intensity  arduino-ethernet_temperature  \\\n",
              "0                             120.833                          26.9   \n",
              "1                              85.833                          30.7   \n",
              "2                              90.833                          35.3   \n",
              "3                             125.833                          27.0   \n",
              "4                               0.000                          24.0   \n",
              "..                                ...                           ...   \n",
              "357                            10.830                          26.7   \n",
              "358                             6.670                          26.6   \n",
              "359                             0.000                          26.6   \n",
              "360                             0.000                          26.4   \n",
              "361                             0.000                          26.2   \n",
              "\n",
              "     arduino-ethernet_humidity  arduino-ethernet_soil_moisture  Actual Value  \n",
              "0                           95                          49.658             1  \n",
              "1                           95                          43.597             1  \n",
              "2                           95                           9.091             1  \n",
              "3                           95                          49.267             1  \n",
              "4                           13                          36.950             1  \n",
              "..                         ...                             ...           ...  \n",
              "357                         95                          40.960             1  \n",
              "358                         95                          52.890             0  \n",
              "359                         95                          50.830             0  \n",
              "360                         95                          43.600             1  \n",
              "361                         95                          43.800             1  \n",
              "\n",
              "[362 rows x 5 columns]"
            ],
            "text/html": [
              "\n",
              "  <div id=\"df-cbb3fa07-5b9c-4b3f-9a5e-15c71d765e9b\">\n",
              "    <div class=\"colab-df-container\">\n",
              "      <div>\n",
              "<style scoped>\n",
              "    .dataframe tbody tr th:only-of-type {\n",
              "        vertical-align: middle;\n",
              "    }\n",
              "\n",
              "    .dataframe tbody tr th {\n",
              "        vertical-align: top;\n",
              "    }\n",
              "\n",
              "    .dataframe thead th {\n",
              "        text-align: right;\n",
              "    }\n",
              "</style>\n",
              "<table border=\"1\" class=\"dataframe\">\n",
              "  <thead>\n",
              "    <tr style=\"text-align: right;\">\n",
              "      <th></th>\n",
              "      <th>arduino-ethernet_light-intensity</th>\n",
              "      <th>arduino-ethernet_temperature</th>\n",
              "      <th>arduino-ethernet_humidity</th>\n",
              "      <th>arduino-ethernet_soil_moisture</th>\n",
              "      <th>Actual Value</th>\n",
              "    </tr>\n",
              "  </thead>\n",
              "  <tbody>\n",
              "    <tr>\n",
              "      <th>0</th>\n",
              "      <td>120.833</td>\n",
              "      <td>26.9</td>\n",
              "      <td>95</td>\n",
              "      <td>49.658</td>\n",
              "      <td>1</td>\n",
              "    </tr>\n",
              "    <tr>\n",
              "      <th>1</th>\n",
              "      <td>85.833</td>\n",
              "      <td>30.7</td>\n",
              "      <td>95</td>\n",
              "      <td>43.597</td>\n",
              "      <td>1</td>\n",
              "    </tr>\n",
              "    <tr>\n",
              "      <th>2</th>\n",
              "      <td>90.833</td>\n",
              "      <td>35.3</td>\n",
              "      <td>95</td>\n",
              "      <td>9.091</td>\n",
              "      <td>1</td>\n",
              "    </tr>\n",
              "    <tr>\n",
              "      <th>3</th>\n",
              "      <td>125.833</td>\n",
              "      <td>27.0</td>\n",
              "      <td>95</td>\n",
              "      <td>49.267</td>\n",
              "      <td>1</td>\n",
              "    </tr>\n",
              "    <tr>\n",
              "      <th>4</th>\n",
              "      <td>0.000</td>\n",
              "      <td>24.0</td>\n",
              "      <td>13</td>\n",
              "      <td>36.950</td>\n",
              "      <td>1</td>\n",
              "    </tr>\n",
              "    <tr>\n",
              "      <th>...</th>\n",
              "      <td>...</td>\n",
              "      <td>...</td>\n",
              "      <td>...</td>\n",
              "      <td>...</td>\n",
              "      <td>...</td>\n",
              "    </tr>\n",
              "    <tr>\n",
              "      <th>357</th>\n",
              "      <td>10.830</td>\n",
              "      <td>26.7</td>\n",
              "      <td>95</td>\n",
              "      <td>40.960</td>\n",
              "      <td>1</td>\n",
              "    </tr>\n",
              "    <tr>\n",
              "      <th>358</th>\n",
              "      <td>6.670</td>\n",
              "      <td>26.6</td>\n",
              "      <td>95</td>\n",
              "      <td>52.890</td>\n",
              "      <td>0</td>\n",
              "    </tr>\n",
              "    <tr>\n",
              "      <th>359</th>\n",
              "      <td>0.000</td>\n",
              "      <td>26.6</td>\n",
              "      <td>95</td>\n",
              "      <td>50.830</td>\n",
              "      <td>0</td>\n",
              "    </tr>\n",
              "    <tr>\n",
              "      <th>360</th>\n",
              "      <td>0.000</td>\n",
              "      <td>26.4</td>\n",
              "      <td>95</td>\n",
              "      <td>43.600</td>\n",
              "      <td>1</td>\n",
              "    </tr>\n",
              "    <tr>\n",
              "      <th>361</th>\n",
              "      <td>0.000</td>\n",
              "      <td>26.2</td>\n",
              "      <td>95</td>\n",
              "      <td>43.800</td>\n",
              "      <td>1</td>\n",
              "    </tr>\n",
              "  </tbody>\n",
              "</table>\n",
              "<p>362 rows × 5 columns</p>\n",
              "</div>\n",
              "      <button class=\"colab-df-convert\" onclick=\"convertToInteractive('df-cbb3fa07-5b9c-4b3f-9a5e-15c71d765e9b')\"\n",
              "              title=\"Convert this dataframe to an interactive table.\"\n",
              "              style=\"display:none;\">\n",
              "        \n",
              "  <svg xmlns=\"http://www.w3.org/2000/svg\" height=\"24px\"viewBox=\"0 0 24 24\"\n",
              "       width=\"24px\">\n",
              "    <path d=\"M0 0h24v24H0V0z\" fill=\"none\"/>\n",
              "    <path d=\"M18.56 5.44l.94 2.06.94-2.06 2.06-.94-2.06-.94-.94-2.06-.94 2.06-2.06.94zm-11 1L8.5 8.5l.94-2.06 2.06-.94-2.06-.94L8.5 2.5l-.94 2.06-2.06.94zm10 10l.94 2.06.94-2.06 2.06-.94-2.06-.94-.94-2.06-.94 2.06-2.06.94z\"/><path d=\"M17.41 7.96l-1.37-1.37c-.4-.4-.92-.59-1.43-.59-.52 0-1.04.2-1.43.59L10.3 9.45l-7.72 7.72c-.78.78-.78 2.05 0 2.83L4 21.41c.39.39.9.59 1.41.59.51 0 1.02-.2 1.41-.59l7.78-7.78 2.81-2.81c.8-.78.8-2.07 0-2.86zM5.41 20L4 18.59l7.72-7.72 1.47 1.35L5.41 20z\"/>\n",
              "  </svg>\n",
              "      </button>\n",
              "      \n",
              "  <style>\n",
              "    .colab-df-container {\n",
              "      display:flex;\n",
              "      flex-wrap:wrap;\n",
              "      gap: 12px;\n",
              "    }\n",
              "\n",
              "    .colab-df-convert {\n",
              "      background-color: #E8F0FE;\n",
              "      border: none;\n",
              "      border-radius: 50%;\n",
              "      cursor: pointer;\n",
              "      display: none;\n",
              "      fill: #1967D2;\n",
              "      height: 32px;\n",
              "      padding: 0 0 0 0;\n",
              "      width: 32px;\n",
              "    }\n",
              "\n",
              "    .colab-df-convert:hover {\n",
              "      background-color: #E2EBFA;\n",
              "      box-shadow: 0px 1px 2px rgba(60, 64, 67, 0.3), 0px 1px 3px 1px rgba(60, 64, 67, 0.15);\n",
              "      fill: #174EA6;\n",
              "    }\n",
              "\n",
              "    [theme=dark] .colab-df-convert {\n",
              "      background-color: #3B4455;\n",
              "      fill: #D2E3FC;\n",
              "    }\n",
              "\n",
              "    [theme=dark] .colab-df-convert:hover {\n",
              "      background-color: #434B5C;\n",
              "      box-shadow: 0px 1px 3px 1px rgba(0, 0, 0, 0.15);\n",
              "      filter: drop-shadow(0px 1px 2px rgba(0, 0, 0, 0.3));\n",
              "      fill: #FFFFFF;\n",
              "    }\n",
              "  </style>\n",
              "\n",
              "      <script>\n",
              "        const buttonEl =\n",
              "          document.querySelector('#df-cbb3fa07-5b9c-4b3f-9a5e-15c71d765e9b button.colab-df-convert');\n",
              "        buttonEl.style.display =\n",
              "          google.colab.kernel.accessAllowed ? 'block' : 'none';\n",
              "\n",
              "        async function convertToInteractive(key) {\n",
              "          const element = document.querySelector('#df-cbb3fa07-5b9c-4b3f-9a5e-15c71d765e9b');\n",
              "          const dataTable =\n",
              "            await google.colab.kernel.invokeFunction('convertToInteractive',\n",
              "                                                     [key], {});\n",
              "          if (!dataTable) return;\n",
              "\n",
              "          const docLinkHtml = 'Like what you see? Visit the ' +\n",
              "            '<a target=\"_blank\" href=https://colab.research.google.com/notebooks/data_table.ipynb>data table notebook</a>'\n",
              "            + ' to learn more about interactive tables.';\n",
              "          element.innerHTML = '';\n",
              "          dataTable['output_type'] = 'display_data';\n",
              "          await google.colab.output.renderOutput(dataTable, element);\n",
              "          const docLink = document.createElement('div');\n",
              "          docLink.innerHTML = docLinkHtml;\n",
              "          element.appendChild(docLink);\n",
              "        }\n",
              "      </script>\n",
              "    </div>\n",
              "  </div>\n",
              "  "
            ]
          },
          "metadata": {},
          "execution_count": 17
        }
      ]
    },
    {
      "cell_type": "code",
      "source": [
        "x = df.iloc[:, 0:4]"
      ],
      "metadata": {
        "id": "KOELbvOlt12T"
      },
      "execution_count": null,
      "outputs": []
    },
    {
      "cell_type": "code",
      "source": [
        "X = df.iloc[:, 0:-1]\n",
        "y = df.iloc[:, -1]"
      ],
      "metadata": {
        "id": "NIsSN5aVt_P4"
      },
      "execution_count": null,
      "outputs": []
    },
    {
      "cell_type": "code",
      "source": [
        "results = model.evaluate(X, y)"
      ],
      "metadata": {
        "colab": {
          "base_uri": "https://localhost:8080/"
        },
        "id": "c5epE1eUuw3n",
        "outputId": "1c7d6cb3-20da-4c0b-db06-e99b8881f44e"
      },
      "execution_count": null,
      "outputs": [
        {
          "output_type": "stream",
          "name": "stdout",
          "text": [
            "12/12 [==============================] - 0s 2ms/step - loss: 0.0995 - accuracy: 0.9751\n"
          ]
        }
      ]
    },
    {
      "cell_type": "code",
      "source": [],
      "metadata": {
        "id": "u0ZA98806D_H"
      },
      "execution_count": null,
      "outputs": []
    },
    {
      "cell_type": "markdown",
      "source": [
        "The Following is the model trained with help of transfer learning"
      ],
      "metadata": {
        "id": "CeGjPYcswMiW"
      }
    },
    {
      "cell_type": "code",
      "source": [
        "model1 = tf.keras.models.load_model('trained_model_finalized')\n",
        "model1.summary()"
      ],
      "metadata": {
        "colab": {
          "base_uri": "https://localhost:8080/"
        },
        "id": "AC5jNqL22d2j",
        "outputId": "c2d5d26e-04e9-4adc-a7d6-e24d2a364e1c"
      },
      "execution_count": null,
      "outputs": [
        {
          "output_type": "stream",
          "name": "stdout",
          "text": [
            "Model: \"sequential_2\"\n",
            "_________________________________________________________________\n",
            " Layer (type)                Output Shape              Param #   \n",
            "=================================================================\n",
            " normalization_6 (Normalizat  (None, 4)                9         \n",
            " ion)                                                            \n",
            "                                                                 \n",
            " dense_4 (Dense)             (None, 20)                100       \n",
            "                                                                 \n",
            " sequential_6 (Sequential)   (None, 64)                1344      \n",
            "                                                                 \n",
            " dense_5 (Dense)             (None, 1)                 65        \n",
            "                                                                 \n",
            "=================================================================\n",
            "Total params: 1,518\n",
            "Trainable params: 165\n",
            "Non-trainable params: 1,353\n",
            "_________________________________________________________________\n"
          ]
        }
      ]
    },
    {
      "cell_type": "code",
      "source": [
        "results = model1.evaluate(X, y)"
      ],
      "metadata": {
        "colab": {
          "base_uri": "https://localhost:8080/"
        },
        "id": "Uoznlf4Osb2P",
        "outputId": "ca0f61d1-b2fb-4794-bbd8-786c025a833b"
      },
      "execution_count": null,
      "outputs": [
        {
          "output_type": "stream",
          "name": "stdout",
          "text": [
            "12/12 [==============================] - 0s 2ms/step - loss: 0.1571 - accuracy: 0.9199\n"
          ]
        }
      ]
    }
  ]
}